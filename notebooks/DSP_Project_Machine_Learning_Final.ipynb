{
 "cells": [
  {
   "cell_type": "markdown",
   "id": "cb823980",
   "metadata": {},
   "source": [
    "### DSP Project on Rating System for Customer's Reviews of on Products \n",
    "\n",
    "##### Amazon Dataset: https://nijianmo.github.io/amazon/index.html#code"
   ]
  },
  {
   "cell_type": "code",
   "execution_count": 1,
   "id": "ba0de2dd",
   "metadata": {},
   "outputs": [],
   "source": [
    "# import the libraries"
   ]
  },
  {
   "cell_type": "code",
   "execution_count": 8,
   "id": "4262be3b",
   "metadata": {},
   "outputs": [],
   "source": [
    "import numpy as np\n",
    "\n",
    "import pandas as pd"
   ]
  },
  {
   "cell_type": "code",
   "execution_count": 9,
   "id": "5e3cd9ff",
   "metadata": {},
   "outputs": [],
   "source": [
    "import json"
   ]
  },
  {
   "cell_type": "code",
   "execution_count": 10,
   "id": "ace3a193-931b-4b9e-aaa0-b46d2523e4ab",
   "metadata": {},
   "outputs": [],
   "source": [
    "dataPath = '/Users/OLALYTICS/dsp-final-project/data/'\n",
    "\n",
    "dataset_name = 'Amazon_Kindle_Store.json'"
   ]
  },
  {
   "cell_type": "code",
   "execution_count": 11,
   "id": "2955343d",
   "metadata": {},
   "outputs": [],
   "source": [
    "data = []\n",
    "\n",
    "with open(dataPath + dataset_name) as f:\n",
    "    \n",
    "    for line in f:\n",
    "        \n",
    "        json_data = json.loads(line)\n",
    "        \n",
    "        data.append(json_data)\n",
    "    "
   ]
  },
  {
   "cell_type": "code",
   "execution_count": 12,
   "id": "9e2290a3",
   "metadata": {},
   "outputs": [],
   "source": [
    "df1 = pd.DataFrame(data)"
   ]
  },
  {
   "cell_type": "code",
   "execution_count": 19,
   "id": "9bfcf3d9-2048-4cb6-8ca2-a5085b223d8e",
   "metadata": {},
   "outputs": [],
   "source": [
    "# Selecting 30% of the dataset to boost the running time while loading\n",
    "\n",
    "df = df1.sample(frac = 0.3, random_state = 42)\n",
    "\n",
    "# Resetting the index of the 10% sample DataFrame\n",
    "\n",
    "df.reset_index(drop = True, inplace = True)"
   ]
  },
  {
   "cell_type": "code",
   "execution_count": 20,
   "id": "2969abe1",
   "metadata": {},
   "outputs": [
    {
     "data": {
      "text/html": [
       "<div>\n",
       "<style scoped>\n",
       "    .dataframe tbody tr th:only-of-type {\n",
       "        vertical-align: middle;\n",
       "    }\n",
       "\n",
       "    .dataframe tbody tr th {\n",
       "        vertical-align: top;\n",
       "    }\n",
       "\n",
       "    .dataframe thead th {\n",
       "        text-align: right;\n",
       "    }\n",
       "</style>\n",
       "<table border=\"1\" class=\"dataframe\">\n",
       "  <thead>\n",
       "    <tr style=\"text-align: right;\">\n",
       "      <th></th>\n",
       "      <th>overall</th>\n",
       "      <th>verified</th>\n",
       "      <th>reviewTime</th>\n",
       "      <th>reviewerID</th>\n",
       "      <th>asin</th>\n",
       "      <th>style</th>\n",
       "      <th>reviewerName</th>\n",
       "      <th>reviewText</th>\n",
       "      <th>summary</th>\n",
       "      <th>unixReviewTime</th>\n",
       "      <th>vote</th>\n",
       "      <th>image</th>\n",
       "    </tr>\n",
       "  </thead>\n",
       "  <tbody>\n",
       "    <tr>\n",
       "      <th>0</th>\n",
       "      <td>4.0</td>\n",
       "      <td>False</td>\n",
       "      <td>12 13, 2013</td>\n",
       "      <td>A30SHRDUQFXF6V</td>\n",
       "      <td>B00FPZ53PW</td>\n",
       "      <td>{'Format:': ' Kindle Edition'}</td>\n",
       "      <td>Steve Bureau</td>\n",
       "      <td>Wow, there is a ton of content there! 52 pages...</td>\n",
       "      <td>A lot of content</td>\n",
       "      <td>1386892800</td>\n",
       "      <td>NaN</td>\n",
       "      <td>NaN</td>\n",
       "    </tr>\n",
       "    <tr>\n",
       "      <th>1</th>\n",
       "      <td>5.0</td>\n",
       "      <td>True</td>\n",
       "      <td>10 8, 2016</td>\n",
       "      <td>A3OCKJ3WL1IVRI</td>\n",
       "      <td>B01H2XPLB0</td>\n",
       "      <td>{'Format:': ' Kindle Edition'}</td>\n",
       "      <td>ckc</td>\n",
       "      <td>Ah here we go again. New season New characters...</td>\n",
       "      <td>The Wifey'$ are back</td>\n",
       "      <td>1475884800</td>\n",
       "      <td>NaN</td>\n",
       "      <td>NaN</td>\n",
       "    </tr>\n",
       "    <tr>\n",
       "      <th>2</th>\n",
       "      <td>5.0</td>\n",
       "      <td>False</td>\n",
       "      <td>08 17, 2015</td>\n",
       "      <td>A3DVTU6BUBAC6</td>\n",
       "      <td>B00XVC88VC</td>\n",
       "      <td>{'Format:': ' Kindle Edition'}</td>\n",
       "      <td>Jaime</td>\n",
       "      <td>My god! Conscience, the 2nd installment in Cec...</td>\n",
       "      <td>FANTASTIC 2nd installment!!!!!</td>\n",
       "      <td>1439769600</td>\n",
       "      <td>6</td>\n",
       "      <td>NaN</td>\n",
       "    </tr>\n",
       "    <tr>\n",
       "      <th>3</th>\n",
       "      <td>5.0</td>\n",
       "      <td>True</td>\n",
       "      <td>05 27, 2015</td>\n",
       "      <td>A175GM0AGKEBBF</td>\n",
       "      <td>B00UZKS8V8</td>\n",
       "      <td>{'Format:': ' Kindle Edition'}</td>\n",
       "      <td>Teresa M Palombi</td>\n",
       "      <td>OMG, I wanted more</td>\n",
       "      <td>Five Stars</td>\n",
       "      <td>1432684800</td>\n",
       "      <td>NaN</td>\n",
       "      <td>NaN</td>\n",
       "    </tr>\n",
       "    <tr>\n",
       "      <th>4</th>\n",
       "      <td>5.0</td>\n",
       "      <td>True</td>\n",
       "      <td>03 10, 2015</td>\n",
       "      <td>AHPYP1RPIJ7TU</td>\n",
       "      <td>B00O6KVFC2</td>\n",
       "      <td>{'Format:': ' Kindle Edition'}</td>\n",
       "      <td>randy atkins</td>\n",
       "      <td>Good read all the way throughout</td>\n",
       "      <td>Five Stars</td>\n",
       "      <td>1425945600</td>\n",
       "      <td>NaN</td>\n",
       "      <td>NaN</td>\n",
       "    </tr>\n",
       "  </tbody>\n",
       "</table>\n",
       "</div>"
      ],
      "text/plain": [
       "   overall  verified   reviewTime      reviewerID        asin  \\\n",
       "0      4.0     False  12 13, 2013  A30SHRDUQFXF6V  B00FPZ53PW   \n",
       "1      5.0      True   10 8, 2016  A3OCKJ3WL1IVRI  B01H2XPLB0   \n",
       "2      5.0     False  08 17, 2015   A3DVTU6BUBAC6  B00XVC88VC   \n",
       "3      5.0      True  05 27, 2015  A175GM0AGKEBBF  B00UZKS8V8   \n",
       "4      5.0      True  03 10, 2015   AHPYP1RPIJ7TU  B00O6KVFC2   \n",
       "\n",
       "                            style      reviewerName  \\\n",
       "0  {'Format:': ' Kindle Edition'}      Steve Bureau   \n",
       "1  {'Format:': ' Kindle Edition'}               ckc   \n",
       "2  {'Format:': ' Kindle Edition'}             Jaime   \n",
       "3  {'Format:': ' Kindle Edition'}  Teresa M Palombi   \n",
       "4  {'Format:': ' Kindle Edition'}      randy atkins   \n",
       "\n",
       "                                          reviewText  \\\n",
       "0  Wow, there is a ton of content there! 52 pages...   \n",
       "1  Ah here we go again. New season New characters...   \n",
       "2  My god! Conscience, the 2nd installment in Cec...   \n",
       "3                                 OMG, I wanted more   \n",
       "4                   Good read all the way throughout   \n",
       "\n",
       "                          summary  unixReviewTime vote image  \n",
       "0                A lot of content      1386892800  NaN   NaN  \n",
       "1            The Wifey'$ are back      1475884800  NaN   NaN  \n",
       "2  FANTASTIC 2nd installment!!!!!      1439769600    6   NaN  \n",
       "3                      Five Stars      1432684800  NaN   NaN  \n",
       "4                      Five Stars      1425945600  NaN   NaN  "
      ]
     },
     "execution_count": 20,
     "metadata": {},
     "output_type": "execute_result"
    }
   ],
   "source": [
    "df.head()"
   ]
  },
  {
   "cell_type": "code",
   "execution_count": 8,
   "id": "de553e41",
   "metadata": {},
   "outputs": [
    {
     "name": "stdout",
     "output_type": "stream",
     "text": [
      "<class 'pandas.core.frame.DataFrame'>\n",
      "RangeIndex: 2222983 entries, 0 to 2222982\n",
      "Data columns (total 12 columns):\n",
      " #   Column          Dtype  \n",
      "---  ------          -----  \n",
      " 0   overall         float64\n",
      " 1   verified        bool   \n",
      " 2   reviewTime      object \n",
      " 3   reviewerID      object \n",
      " 4   asin            object \n",
      " 5   style           object \n",
      " 6   reviewerName    object \n",
      " 7   reviewText      object \n",
      " 8   summary         object \n",
      " 9   unixReviewTime  int64  \n",
      " 10  vote            object \n",
      " 11  image           object \n",
      "dtypes: bool(1), float64(1), int64(1), object(9)\n",
      "memory usage: 188.7+ MB\n"
     ]
    }
   ],
   "source": [
    "df.info()"
   ]
  },
  {
   "cell_type": "code",
   "execution_count": 13,
   "id": "bbe884be",
   "metadata": {},
   "outputs": [],
   "source": [
    "import seaborn as sns"
   ]
  },
  {
   "cell_type": "code",
   "execution_count": 14,
   "id": "c5356ac3",
   "metadata": {},
   "outputs": [
    {
     "data": {
      "text/plain": [
       "<Axes: xlabel='overall', ylabel='count'>"
      ]
     },
     "execution_count": 14,
     "metadata": {},
     "output_type": "execute_result"
    },
    {
     "data": {
      "image/png": "[encoded data removed]",
      "text/plain": [
       "<Figure size 640x480 with 1 Axes>"
      ]
     },
     "metadata": {},
     "output_type": "display_data"
    }
   ],
   "source": [
    "sns.countplot(x = 'overall', data = df)"
   ]
  },
  {
   "cell_type": "code",
   "execution_count": 17,
   "id": "d896e404",
   "metadata": {},
   "outputs": [
    {
     "data": {
      "text/plain": [
       "<Axes: xlabel='verified', ylabel='count'>"
      ]
     },
     "execution_count": 17,
     "metadata": {},
     "output_type": "execute_result"
    },
    {
     "data": {
      "image/png": "[encoded data removed]",
      "text/plain": [
       "<Figure size 640x480 with 1 Axes>"
      ]
     },
     "metadata": {},
     "output_type": "display_data"
    }
   ],
   "source": [
    "sns.countplot(x = 'verified', data = df)"
   ]
  },
  {
   "cell_type": "code",
   "execution_count": null,
   "id": "788b27fa",
   "metadata": {},
   "outputs": [],
   "source": [
    "# The customer's rating analysis"
   ]
  },
  {
   "cell_type": "markdown",
   "id": "9b312c88",
   "metadata": {},
   "source": [
    "### interested columns: `reviewText and overall`"
   ]
  },
  {
   "cell_type": "code",
   "execution_count": 22,
   "id": "17d2ee76",
   "metadata": {},
   "outputs": [
    {
     "data": {
      "text/html": [
       "<div>\n",
       "<style scoped>\n",
       "    .dataframe tbody tr th:only-of-type {\n",
       "        vertical-align: middle;\n",
       "    }\n",
       "\n",
       "    .dataframe tbody tr th {\n",
       "        vertical-align: top;\n",
       "    }\n",
       "\n",
       "    .dataframe thead th {\n",
       "        text-align: right;\n",
       "    }\n",
       "</style>\n",
       "<table border=\"1\" class=\"dataframe\">\n",
       "  <thead>\n",
       "    <tr style=\"text-align: right;\">\n",
       "      <th></th>\n",
       "      <th>reviewText</th>\n",
       "      <th>overall</th>\n",
       "    </tr>\n",
       "  </thead>\n",
       "  <tbody>\n",
       "    <tr>\n",
       "      <th>0</th>\n",
       "      <td>Wow, there is a ton of content there! 52 pages...</td>\n",
       "      <td>4.0</td>\n",
       "    </tr>\n",
       "    <tr>\n",
       "      <th>1</th>\n",
       "      <td>Ah here we go again. New season New characters...</td>\n",
       "      <td>5.0</td>\n",
       "    </tr>\n",
       "    <tr>\n",
       "      <th>2</th>\n",
       "      <td>My god! Conscience, the 2nd installment in Cec...</td>\n",
       "      <td>5.0</td>\n",
       "    </tr>\n",
       "    <tr>\n",
       "      <th>3</th>\n",
       "      <td>OMG, I wanted more</td>\n",
       "      <td>5.0</td>\n",
       "    </tr>\n",
       "    <tr>\n",
       "      <th>4</th>\n",
       "      <td>Good read all the way throughout</td>\n",
       "      <td>5.0</td>\n",
       "    </tr>\n",
       "  </tbody>\n",
       "</table>\n",
       "</div>"
      ],
      "text/plain": [
       "                                          reviewText  overall\n",
       "0  Wow, there is a ton of content there! 52 pages...      4.0\n",
       "1  Ah here we go again. New season New characters...      5.0\n",
       "2  My god! Conscience, the 2nd installment in Cec...      5.0\n",
       "3                                 OMG, I wanted more      5.0\n",
       "4                   Good read all the way throughout      5.0"
      ]
     },
     "execution_count": 22,
     "metadata": {},
     "output_type": "execute_result"
    }
   ],
   "source": [
    "data_df = df[['reviewText','overall']]\n",
    "\n",
    "data_df.head()"
   ]
  },
  {
   "cell_type": "code",
   "execution_count": 23,
   "id": "6a9cc7e0",
   "metadata": {},
   "outputs": [
    {
     "data": {
      "text/html": [
       "<div>\n",
       "<style scoped>\n",
       "    .dataframe tbody tr th:only-of-type {\n",
       "        vertical-align: middle;\n",
       "    }\n",
       "\n",
       "    .dataframe tbody tr th {\n",
       "        vertical-align: top;\n",
       "    }\n",
       "\n",
       "    .dataframe thead th {\n",
       "        text-align: right;\n",
       "    }\n",
       "</style>\n",
       "<table border=\"1\" class=\"dataframe\">\n",
       "  <thead>\n",
       "    <tr style=\"text-align: right;\">\n",
       "      <th></th>\n",
       "      <th>reviewText</th>\n",
       "      <th>overall</th>\n",
       "    </tr>\n",
       "  </thead>\n",
       "  <tbody>\n",
       "    <tr>\n",
       "      <th>245770</th>\n",
       "      <td>I started this book not knowing what it was ab...</td>\n",
       "      <td>4.0</td>\n",
       "    </tr>\n",
       "    <tr>\n",
       "      <th>406713</th>\n",
       "      <td>These 2 stores are very fast reads.  I'm glad ...</td>\n",
       "      <td>4.0</td>\n",
       "    </tr>\n",
       "    <tr>\n",
       "      <th>198292</th>\n",
       "      <td>Couldn't put it down.  An excellent story abou...</td>\n",
       "      <td>5.0</td>\n",
       "    </tr>\n",
       "    <tr>\n",
       "      <th>145039</th>\n",
       "      <td>Very good read. Short....sweet..and don't need...</td>\n",
       "      <td>5.0</td>\n",
       "    </tr>\n",
       "    <tr>\n",
       "      <th>37655</th>\n",
       "      <td>Loved this book it made me cry and I love that...</td>\n",
       "      <td>5.0</td>\n",
       "    </tr>\n",
       "  </tbody>\n",
       "</table>\n",
       "</div>"
      ],
      "text/plain": [
       "                                               reviewText  overall\n",
       "245770  I started this book not knowing what it was ab...      4.0\n",
       "406713  These 2 stores are very fast reads.  I'm glad ...      4.0\n",
       "198292  Couldn't put it down.  An excellent story abou...      5.0\n",
       "145039  Very good read. Short....sweet..and don't need...      5.0\n",
       "37655   Loved this book it made me cry and I love that...      5.0"
      ]
     },
     "execution_count": 23,
     "metadata": {},
     "output_type": "execute_result"
    }
   ],
   "source": [
    "data_df.sample(5)"
   ]
  },
  {
   "cell_type": "code",
   "execution_count": 24,
   "id": "dc82c0d6",
   "metadata": {},
   "outputs": [
    {
     "data": {
      "text/plain": [
       "overall\n",
       "5.0    406286\n",
       "4.0    166700\n",
       "3.0     59324\n",
       "2.0     20187\n",
       "1.0     14398\n",
       "Name: count, dtype: int64"
      ]
     },
     "execution_count": 24,
     "metadata": {},
     "output_type": "execute_result"
    }
   ],
   "source": [
    "data_df['overall'].value_counts()"
   ]
  },
  {
   "cell_type": "code",
   "execution_count": null,
   "id": "58c891ae",
   "metadata": {},
   "outputs": [],
   "source": [
    "# preprocessing"
   ]
  },
  {
   "cell_type": "code",
   "execution_count": 25,
   "id": "f1a33f77",
   "metadata": {},
   "outputs": [],
   "source": [
    "from bs4 import BeautifulSoup\n",
    "\n",
    "from unidecode import unidecode\n",
    "\n",
    "import re\n",
    "\n",
    "def clean_text(text):\n",
    "    \n",
    "    text = str(text).lower().replace('\\\\', '').replace('_', ' ')\n",
    "    #text = contractions.fix(text)\n",
    "    text = re.sub(r'\\S+@\\S+', '', text)\n",
    "    text = re.sub(r'http\\S+', '', text)\n",
    "    soup = BeautifulSoup(text, 'html.parser')\n",
    "    text = soup.get_text()\n",
    "    text = unidecode(text)\n",
    "    text = re.sub(r'[^a-zA-Z0-9\\s]', '', text)\n",
    "    text = re.sub(\"(.)\\\\1{2,}\", \"\\\\1\", text)\n",
    "                        \n",
    "    return text"
   ]
  },
  {
   "cell_type": "code",
   "execution_count": 26,
   "id": "cbf65734",
   "metadata": {},
   "outputs": [
    {
     "name": "stderr",
     "output_type": "stream",
     "text": [
      "/var/folders/c6/ht4lr6411jqdn8bhdr_m1dh00000gp/T/ipykernel_65431/2549876200.py:13: MarkupResemblesLocatorWarning: The input looks more like a filename than markup. You may want to open this file and pass the filehandle into Beautiful Soup.\n",
      "  soup = BeautifulSoup(text, 'html.parser')\n",
      "/var/folders/c6/ht4lr6411jqdn8bhdr_m1dh00000gp/T/ipykernel_65431/1075072618.py:1: SettingWithCopyWarning: \n",
      "A value is trying to be set on a copy of a slice from a DataFrame.\n",
      "Try using .loc[row_indexer,col_indexer] = value instead\n",
      "\n",
      "See the caveats in the documentation: https://pandas.pydata.org/pandas-docs/stable/user_guide/indexing.html#returning-a-view-versus-a-copy\n",
      "  data_df['reviewText'] = data_df['reviewText'].apply(lambda text: clean_text(text))\n"
     ]
    }
   ],
   "source": [
    "\n",
    "data_df['reviewText'] = data_df['reviewText'].apply(lambda text: clean_text(text))"
   ]
  },
  {
   "cell_type": "code",
   "execution_count": 27,
   "id": "476e03b2",
   "metadata": {},
   "outputs": [
    {
     "data": {
      "text/html": [
       "<div>\n",
       "<style scoped>\n",
       "    .dataframe tbody tr th:only-of-type {\n",
       "        vertical-align: middle;\n",
       "    }\n",
       "\n",
       "    .dataframe tbody tr th {\n",
       "        vertical-align: top;\n",
       "    }\n",
       "\n",
       "    .dataframe thead th {\n",
       "        text-align: right;\n",
       "    }\n",
       "</style>\n",
       "<table border=\"1\" class=\"dataframe\">\n",
       "  <thead>\n",
       "    <tr style=\"text-align: right;\">\n",
       "      <th></th>\n",
       "      <th>reviewText</th>\n",
       "      <th>overall</th>\n",
       "    </tr>\n",
       "  </thead>\n",
       "  <tbody>\n",
       "    <tr>\n",
       "      <th>0</th>\n",
       "      <td>wow there is a ton of content there 52 pages i...</td>\n",
       "      <td>4.0</td>\n",
       "    </tr>\n",
       "    <tr>\n",
       "      <th>1</th>\n",
       "      <td>ah here we go again new season new characters ...</td>\n",
       "      <td>5.0</td>\n",
       "    </tr>\n",
       "    <tr>\n",
       "      <th>2</th>\n",
       "      <td>my god conscience the 2nd installment in cecil...</td>\n",
       "      <td>5.0</td>\n",
       "    </tr>\n",
       "    <tr>\n",
       "      <th>3</th>\n",
       "      <td>omg i wanted more</td>\n",
       "      <td>5.0</td>\n",
       "    </tr>\n",
       "    <tr>\n",
       "      <th>4</th>\n",
       "      <td>good read all the way throughout</td>\n",
       "      <td>5.0</td>\n",
       "    </tr>\n",
       "  </tbody>\n",
       "</table>\n",
       "</div>"
      ],
      "text/plain": [
       "                                          reviewText  overall\n",
       "0  wow there is a ton of content there 52 pages i...      4.0\n",
       "1  ah here we go again new season new characters ...      5.0\n",
       "2  my god conscience the 2nd installment in cecil...      5.0\n",
       "3                                  omg i wanted more      5.0\n",
       "4                   good read all the way throughout      5.0"
      ]
     },
     "execution_count": 27,
     "metadata": {},
     "output_type": "execute_result"
    }
   ],
   "source": [
    "data_df.head()"
   ]
  },
  {
   "cell_type": "code",
   "execution_count": null,
   "id": "738981e5",
   "metadata": {},
   "outputs": [],
   "source": [
    "# implementing the algorithm"
   ]
  },
  {
   "cell_type": "code",
   "execution_count": null,
   "id": "fbd69c30",
   "metadata": {},
   "outputs": [],
   "source": [
    "# Term Frequency - Inverse Document Frequency(TFIDF) and Linear Support Vector Machine(SVM)"
   ]
  },
  {
   "cell_type": "code",
   "execution_count": 28,
   "id": "1f13967a",
   "metadata": {},
   "outputs": [],
   "source": [
    "from sklearn.feature_extraction.text import TfidfVectorizer\n",
    "\n",
    "from sklearn.model_selection import train_test_split\n",
    "\n",
    "from sklearn.svm import LinearSVC\n",
    "\n",
    "from sklearn.metrics import classification_report"
   ]
  },
  {
   "cell_type": "code",
   "execution_count": 29,
   "id": "494a36ec",
   "metadata": {},
   "outputs": [],
   "source": [
    "tfidf = TfidfVectorizer(max_features = None, ngram_range = (1,3), analyzer = 'char')\n",
    "\n",
    "            # ngram = 1,5"
   ]
  },
  {
   "cell_type": "code",
   "execution_count": 30,
   "id": "ac6e04e5",
   "metadata": {},
   "outputs": [
    {
     "data": {
      "text/html": [
       "<style>#sk-container-id-1 {color: black;}#sk-container-id-1 pre{padding: 0;}#sk-container-id-1 div.sk-toggleable {background-color: white;}#sk-container-id-1 label.sk-toggleable__label {cursor: pointer;display: block;width: 100%;margin-bottom: 0;padding: 0.3em;box-sizing: border-box;text-align: center;}#sk-container-id-1 label.sk-toggleable__label-arrow:before {content: \"▸\";float: left;margin-right: 0.25em;color: #696969;}#sk-container-id-1 label.sk-toggleable__label-arrow:hover:before {color: black;}#sk-container-id-1 div.sk-estimator:hover label.sk-toggleable__label-arrow:before {color: black;}#sk-container-id-1 div.sk-toggleable__content {max-height: 0;max-width: 0;overflow: hidden;text-align: left;background-color: #f0f8ff;}#sk-container-id-1 div.sk-toggleable__content pre {margin: 0.2em;color: black;border-radius: 0.25em;background-color: #f0f8ff;}#sk-container-id-1 input.sk-toggleable__control:checked~div.sk-toggleable__content {max-height: 200px;max-width: 100%;overflow: auto;}#sk-container-id-1 input.sk-toggleable__control:checked~label.sk-toggleable__label-arrow:before {content: \"▾\";}#sk-container-id-1 div.sk-estimator input.sk-toggleable__control:checked~label.sk-toggleable__label {background-color: #d4ebff;}#sk-container-id-1 div.sk-label input.sk-toggleable__control:checked~label.sk-toggleable__label {background-color: #d4ebff;}#sk-container-id-1 input.sk-hidden--visually {border: 0;clip: rect(1px 1px 1px 1px);clip: rect(1px, 1px, 1px, 1px);height: 1px;margin: -1px;overflow: hidden;padding: 0;position: absolute;width: 1px;}#sk-container-id-1 div.sk-estimator {font-family: monospace;background-color: #f0f8ff;border: 1px dotted black;border-radius: 0.25em;box-sizing: border-box;margin-bottom: 0.5em;}#sk-container-id-1 div.sk-estimator:hover {background-color: #d4ebff;}#sk-container-id-1 div.sk-parallel-item::after {content: \"\";width: 100%;border-bottom: 1px solid gray;flex-grow: 1;}#sk-container-id-1 div.sk-label:hover label.sk-toggleable__label {background-color: #d4ebff;}#sk-container-id-1 div.sk-serial::before {content: \"\";position: absolute;border-left: 1px solid gray;box-sizing: border-box;top: 0;bottom: 0;left: 50%;z-index: 0;}#sk-container-id-1 div.sk-serial {display: flex;flex-direction: column;align-items: center;background-color: white;padding-right: 0.2em;padding-left: 0.2em;position: relative;}#sk-container-id-1 div.sk-item {position: relative;z-index: 1;}#sk-container-id-1 div.sk-parallel {display: flex;align-items: stretch;justify-content: center;background-color: white;position: relative;}#sk-container-id-1 div.sk-item::before, #sk-container-id-1 div.sk-parallel-item::before {content: \"\";position: absolute;border-left: 1px solid gray;box-sizing: border-box;top: 0;bottom: 0;left: 50%;z-index: -1;}#sk-container-id-1 div.sk-parallel-item {display: flex;flex-direction: column;z-index: 1;position: relative;background-color: white;}#sk-container-id-1 div.sk-parallel-item:first-child::after {align-self: flex-end;width: 50%;}#sk-container-id-1 div.sk-parallel-item:last-child::after {align-self: flex-start;width: 50%;}#sk-container-id-1 div.sk-parallel-item:only-child::after {width: 0;}#sk-container-id-1 div.sk-dashed-wrapped {border: 1px dashed gray;margin: 0 0.4em 0.5em 0.4em;box-sizing: border-box;padding-bottom: 0.4em;background-color: white;}#sk-container-id-1 div.sk-label label {font-family: monospace;font-weight: bold;display: inline-block;line-height: 1.2em;}#sk-container-id-1 div.sk-label-container {text-align: center;}#sk-container-id-1 div.sk-container {/* jupyter's `normalize.less` sets `[hidden] { display: none; }` but bootstrap.min.css set `[hidden] { display: none !important; }` so we also need the `!important` here to be able to override the default hidden behavior on the sphinx rendered scikit-learn.org. See: https://github.com/scikit-learn/scikit-learn/issues/21755 */display: inline-block !important;position: relative;}#sk-container-id-1 div.sk-text-repr-fallback {display: none;}</style><div id=\"sk-container-id-1\" class=\"sk-top-container\"><div class=\"sk-text-repr-fallback\"><pre>TfidfVectorizer(analyzer=&#x27;char&#x27;, ngram_range=(1, 3))</pre><b>In a Jupyter environment, please rerun this cell to show the HTML representation or trust the notebook. <br />On GitHub, the HTML representation is unable to render, please try loading this page with nbviewer.org.</b></div><div class=\"sk-container\" hidden><div class=\"sk-item\"><div class=\"sk-estimator sk-toggleable\"><input class=\"sk-toggleable__control sk-hidden--visually\" id=\"sk-estimator-id-1\" type=\"checkbox\" checked><label for=\"sk-estimator-id-1\" class=\"sk-toggleable__label sk-toggleable__label-arrow\">TfidfVectorizer</label><div class=\"sk-toggleable__content\"><pre>TfidfVectorizer(analyzer=&#x27;char&#x27;, ngram_range=(1, 3))</pre></div></div></div></div></div>"
      ],
      "text/plain": [
       "TfidfVectorizer(analyzer='char', ngram_range=(1, 3))"
      ]
     },
     "execution_count": 30,
     "metadata": {},
     "output_type": "execute_result"
    }
   ],
   "source": [
    "tfidf.fit(data_df['reviewText'])"
   ]
  },
  {
   "cell_type": "code",
   "execution_count": 31,
   "id": "c6eeac3c",
   "metadata": {},
   "outputs": [],
   "source": [
    "# Features selection \n",
    "\n",
    "X = tfidf.transform(data_df['reviewText'])"
   ]
  },
  {
   "cell_type": "code",
   "execution_count": 32,
   "id": "57adfe58",
   "metadata": {},
   "outputs": [],
   "source": [
    "y = data_df['overall']"
   ]
  },
  {
   "cell_type": "code",
   "execution_count": null,
   "id": "0facc2a6",
   "metadata": {},
   "outputs": [],
   "source": [
    "X.shape, y.shape"
   ]
  },
  {
   "cell_type": "code",
   "execution_count": 33,
   "id": "a9947663",
   "metadata": {},
   "outputs": [],
   "source": [
    "# splitting the dataset\n",
    "\n",
    "X_train, X_test, y_train, y_test = train_test_split(X, y, test_size = 0.25, random_state = 42)\n"
   ]
  },
  {
   "cell_type": "code",
   "execution_count": 34,
   "id": "adcc39d3",
   "metadata": {},
   "outputs": [
    {
     "data": {
      "text/plain": [
       "(500171, 25079)"
      ]
     },
     "execution_count": 34,
     "metadata": {},
     "output_type": "execute_result"
    }
   ],
   "source": [
    "X_train.shape"
   ]
  },
  {
   "cell_type": "code",
   "execution_count": null,
   "id": "8a2dbc43",
   "metadata": {},
   "outputs": [],
   "source": [
    "# Model fitting using LinearSVC"
   ]
  },
  {
   "cell_type": "code",
   "execution_count": 35,
   "id": "34f3873b",
   "metadata": {},
   "outputs": [],
   "source": [
    "# Initializing the model\n",
    "\n",
    "LinSVC = LinearSVC(C = 20, class_weight = 'balanced') "
   ]
  },
  {
   "cell_type": "code",
   "execution_count": 36,
   "id": "d2d723b4",
   "metadata": {},
   "outputs": [
    {
     "name": "stderr",
     "output_type": "stream",
     "text": [
      "/Users/OLALYTICS/dsproject/lib/python3.12/site-packages/sklearn/svm/_classes.py:32: FutureWarning: The default value of `dual` will change from `True` to `'auto'` in 1.5. Set the value of `dual` explicitly to suppress the warning.\n",
      "  warnings.warn(\n",
      "/Users/OLALYTICS/dsproject/lib/python3.12/site-packages/sklearn/svm/_base.py:1250: ConvergenceWarning: Liblinear failed to converge, increase the number of iterations.\n",
      "  warnings.warn(\n"
     ]
    },
    {
     "data": {
      "text/html": [
       "<style>#sk-container-id-2 {color: black;}#sk-container-id-2 pre{padding: 0;}#sk-container-id-2 div.sk-toggleable {background-color: white;}#sk-container-id-2 label.sk-toggleable__label {cursor: pointer;display: block;width: 100%;margin-bottom: 0;padding: 0.3em;box-sizing: border-box;text-align: center;}#sk-container-id-2 label.sk-toggleable__label-arrow:before {content: \"▸\";float: left;margin-right: 0.25em;color: #696969;}#sk-container-id-2 label.sk-toggleable__label-arrow:hover:before {color: black;}#sk-container-id-2 div.sk-estimator:hover label.sk-toggleable__label-arrow:before {color: black;}#sk-container-id-2 div.sk-toggleable__content {max-height: 0;max-width: 0;overflow: hidden;text-align: left;background-color: #f0f8ff;}#sk-container-id-2 div.sk-toggleable__content pre {margin: 0.2em;color: black;border-radius: 0.25em;background-color: #f0f8ff;}#sk-container-id-2 input.sk-toggleable__control:checked~div.sk-toggleable__content {max-height: 200px;max-width: 100%;overflow: auto;}#sk-container-id-2 input.sk-toggleable__control:checked~label.sk-toggleable__label-arrow:before {content: \"▾\";}#sk-container-id-2 div.sk-estimator input.sk-toggleable__control:checked~label.sk-toggleable__label {background-color: #d4ebff;}#sk-container-id-2 div.sk-label input.sk-toggleable__control:checked~label.sk-toggleable__label {background-color: #d4ebff;}#sk-container-id-2 input.sk-hidden--visually {border: 0;clip: rect(1px 1px 1px 1px);clip: rect(1px, 1px, 1px, 1px);height: 1px;margin: -1px;overflow: hidden;padding: 0;position: absolute;width: 1px;}#sk-container-id-2 div.sk-estimator {font-family: monospace;background-color: #f0f8ff;border: 1px dotted black;border-radius: 0.25em;box-sizing: border-box;margin-bottom: 0.5em;}#sk-container-id-2 div.sk-estimator:hover {background-color: #d4ebff;}#sk-container-id-2 div.sk-parallel-item::after {content: \"\";width: 100%;border-bottom: 1px solid gray;flex-grow: 1;}#sk-container-id-2 div.sk-label:hover label.sk-toggleable__label {background-color: #d4ebff;}#sk-container-id-2 div.sk-serial::before {content: \"\";position: absolute;border-left: 1px solid gray;box-sizing: border-box;top: 0;bottom: 0;left: 50%;z-index: 0;}#sk-container-id-2 div.sk-serial {display: flex;flex-direction: column;align-items: center;background-color: white;padding-right: 0.2em;padding-left: 0.2em;position: relative;}#sk-container-id-2 div.sk-item {position: relative;z-index: 1;}#sk-container-id-2 div.sk-parallel {display: flex;align-items: stretch;justify-content: center;background-color: white;position: relative;}#sk-container-id-2 div.sk-item::before, #sk-container-id-2 div.sk-parallel-item::before {content: \"\";position: absolute;border-left: 1px solid gray;box-sizing: border-box;top: 0;bottom: 0;left: 50%;z-index: -1;}#sk-container-id-2 div.sk-parallel-item {display: flex;flex-direction: column;z-index: 1;position: relative;background-color: white;}#sk-container-id-2 div.sk-parallel-item:first-child::after {align-self: flex-end;width: 50%;}#sk-container-id-2 div.sk-parallel-item:last-child::after {align-self: flex-start;width: 50%;}#sk-container-id-2 div.sk-parallel-item:only-child::after {width: 0;}#sk-container-id-2 div.sk-dashed-wrapped {border: 1px dashed gray;margin: 0 0.4em 0.5em 0.4em;box-sizing: border-box;padding-bottom: 0.4em;background-color: white;}#sk-container-id-2 div.sk-label label {font-family: monospace;font-weight: bold;display: inline-block;line-height: 1.2em;}#sk-container-id-2 div.sk-label-container {text-align: center;}#sk-container-id-2 div.sk-container {/* jupyter's `normalize.less` sets `[hidden] { display: none; }` but bootstrap.min.css set `[hidden] { display: none !important; }` so we also need the `!important` here to be able to override the default hidden behavior on the sphinx rendered scikit-learn.org. See: https://github.com/scikit-learn/scikit-learn/issues/21755 */display: inline-block !important;position: relative;}#sk-container-id-2 div.sk-text-repr-fallback {display: none;}</style><div id=\"sk-container-id-2\" class=\"sk-top-container\"><div class=\"sk-text-repr-fallback\"><pre>LinearSVC(C=20, class_weight=&#x27;balanced&#x27;)</pre><b>In a Jupyter environment, please rerun this cell to show the HTML representation or trust the notebook. <br />On GitHub, the HTML representation is unable to render, please try loading this page with nbviewer.org.</b></div><div class=\"sk-container\" hidden><div class=\"sk-item\"><div class=\"sk-estimator sk-toggleable\"><input class=\"sk-toggleable__control sk-hidden--visually\" id=\"sk-estimator-id-2\" type=\"checkbox\" checked><label for=\"sk-estimator-id-2\" class=\"sk-toggleable__label sk-toggleable__label-arrow\">LinearSVC</label><div class=\"sk-toggleable__content\"><pre>LinearSVC(C=20, class_weight=&#x27;balanced&#x27;)</pre></div></div></div></div></div>"
      ],
      "text/plain": [
       "LinearSVC(C=20, class_weight='balanced')"
      ]
     },
     "execution_count": 36,
     "metadata": {},
     "output_type": "execute_result"
    }
   ],
   "source": [
    "LinSVC.fit(X_train, y_train)"
   ]
  },
  {
   "cell_type": "code",
   "execution_count": 37,
   "id": "2eecc7cd",
   "metadata": {},
   "outputs": [
    {
     "data": {
      "text/plain": [
       "array([1., 3., 5., ..., 5., 3., 3.])"
      ]
     },
     "execution_count": 37,
     "metadata": {},
     "output_type": "execute_result"
    }
   ],
   "source": [
    "predicted_rating = LinSVC.predict(X_test)\n",
    "\n",
    "predicted_rating"
   ]
  },
  {
   "cell_type": "code",
   "execution_count": null,
   "id": "1f733a97",
   "metadata": {},
   "outputs": [],
   "source": [
    "# classification report for model performance"
   ]
  },
  {
   "cell_type": "code",
   "execution_count": 38,
   "id": "ed7fa1ec",
   "metadata": {},
   "outputs": [
    {
     "name": "stdout",
     "output_type": "stream",
     "text": [
      "              precision    recall  f1-score   support\n",
      "\n",
      "         1.0       0.30      0.54      0.38      3672\n",
      "         2.0       0.22      0.40      0.29      5053\n",
      "         3.0       0.35      0.44      0.39     14698\n",
      "         4.0       0.49      0.33      0.39     41692\n",
      "         5.0       0.79      0.82      0.81    101609\n",
      "\n",
      "    accuracy                           0.64    166724\n",
      "   macro avg       0.43      0.50      0.45    166724\n",
      "weighted avg       0.65      0.64      0.64    166724\n",
      "\n"
     ]
    }
   ],
   "source": [
    "print(classification_report(y_test, predicted_rating))"
   ]
  },
  {
   "cell_type": "code",
   "execution_count": null,
   "id": "7389a770",
   "metadata": {},
   "outputs": [],
   "source": [
    "# Predicting the Rating based on customer's review"
   ]
  },
  {
   "cell_type": "code",
   "execution_count": 43,
   "id": "16aac249",
   "metadata": {},
   "outputs": [
    {
     "name": "stdin",
     "output_type": "stream",
     "text": [
      "Please provide your reviews:  I dislike the book\n"
     ]
    },
    {
     "name": "stdout",
     "output_type": "stream",
     "text": [
      "\n",
      "The predicted overall rating is:  [1.]\n"
     ]
    }
   ],
   "source": [
    "text_entry = input('Please provide your reviews: ')\n",
    "\n",
    "text_entry = clean_text(text_entry)\n",
    "\n",
    "text_transformed = tfidf.transform([text_entry])\n",
    "\n",
    "\n",
    "print('\\nThe predicted overall rating is: ', LinSVC.predict(text_transformed))"
   ]
  },
  {
   "cell_type": "code",
   "execution_count": null,
   "id": "a9fe19d9",
   "metadata": {},
   "outputs": [],
   "source": [
    "# loading model to pickle"
   ]
  },
  {
   "cell_type": "code",
   "execution_count": null,
   "id": "48f82e80",
   "metadata": {},
   "outputs": [],
   "source": [
    "import pickle"
   ]
  },
  {
   "cell_type": "code",
   "execution_count": null,
   "id": "eebbd049",
   "metadata": {},
   "outputs": [],
   "source": [
    "with open('dsp_project_model.pkl', 'wb') as file:\n",
    "    pickle.dump(LinSVC, file)"
   ]
  },
  {
   "cell_type": "code",
   "execution_count": null,
   "id": "77fd2e0e",
   "metadata": {},
   "outputs": [],
   "source": []
  },
  {
   "cell_type": "code",
   "execution_count": null,
   "id": "27a8b156",
   "metadata": {},
   "outputs": [],
   "source": [
    "# reading the pickle file"
   ]
  },
  {
   "cell_type": "code",
   "execution_count": null,
   "id": "2d4ff3f2",
   "metadata": {},
   "outputs": [],
   "source": [
    "#import pickle"
   ]
  },
  {
   "cell_type": "code",
   "execution_count": null,
   "id": "e3ca3628",
   "metadata": {},
   "outputs": [],
   "source": [
    "#with open('dsp_project_model.pkl', 'rb') as file:\n",
    "    #clf = pickle.load(file)"
   ]
  },
  {
   "cell_type": "code",
   "execution_count": null,
   "id": "a9f6e6c1",
   "metadata": {},
   "outputs": [],
   "source": [
    "# predict with it"
   ]
  },
  {
   "cell_type": "code",
   "execution_count": null,
   "id": "1458b9c6",
   "metadata": {},
   "outputs": [],
   "source": [
    "#predictions = clf.predict([['this product is good']])"
   ]
  },
  {
   "cell_type": "code",
   "execution_count": null,
   "id": "03b4ae32",
   "metadata": {},
   "outputs": [],
   "source": [
    "#predictions"
   ]
  }
 ],
 "metadata": {
  "kernelspec": {
   "display_name": "Python 3 (ipykernel)",
   "language": "python",
   "name": "python3"
  },
  "language_info": {
   "codemirror_mode": {
    "name": "ipython",
    "version": 3
   },
   "file_extension": ".py",
   "mimetype": "text/x-python",
   "name": "python",
   "nbconvert_exporter": "python",
   "pygments_lexer": "ipython3",
   "version": "3.12.0"
  }
 },
 "nbformat": 4,
 "nbformat_minor": 5
}
