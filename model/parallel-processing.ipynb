{
 "cells": [
  {
   "cell_type": "code",
   "execution_count": null,
   "metadata": {},
   "outputs": [],
   "source": [
    "import pandas as pd\n",
    "import json\n",
    "import multiprocessing"
   ]
  },
  {
   "cell_type": "code",
   "execution_count": null,
   "metadata": {},
   "outputs": [],
   "source": [
    "# Parallel Computing\n",
    "import multiprocessing as mp\n",
    "# from joblib import Parallel, delayed\n",
    "# from tqdm.notebook import tqdm\n",
    "# Text Processing \n",
    "# import re \n",
    "# from nltk.corpus import stopwords\n",
    "# import string"
   ]
  },
  {
   "cell_type": "code",
   "execution_count": null,
   "metadata": {},
   "outputs": [],
   "source": [
    "n_workers = 2 * mp.cpu_count()\n",
    "\n",
    "print(f\"{n_workers} workers are available\")"
   ]
  },
  {
   "cell_type": "code",
   "execution_count": null,
   "metadata": {},
   "outputs": [],
   "source": [
    "%time\n",
    "file_name=\"Kindle_Store_5_2018.csv\"\n",
    "df = pd.read_csv(file_name)\n",
    "\n",
    "print(f\"Shape:{df.shape}\\n\\nColumn Names:\\n{df.columns}\\n\")\n",
    "print(df.dtypes)"
   ]
  },
  {
   "cell_type": "code",
   "execution_count": null,
   "metadata": {},
   "outputs": [],
   "source": [
    "num_rows = df.shape[0]\n",
    "print(\"Number of rows in the dataset:\", num_rows)"
   ]
  }
 ],
 "metadata": {
  "language_info": {
   "name": "python"
  },
  "orig_nbformat": 4
 },
 "nbformat": 4,
 "nbformat_minor": 2
}
