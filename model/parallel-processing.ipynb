{
 "cells": [
  {
   "cell_type": "code",
   "execution_count": null,
   "metadata": {},
   "outputs": [],
   "source": [
    "# Parallel Computing\n",
    "import multiprocessing as mp\n",
    "from joblib import Parallel, delayed\n",
    "from tqdm.notebook import tqdm\n",
    "\n",
    "# Data Ingestion \n",
    "import pandas as pd"
   ]
  },
  {
   "attachments": {},
   "cell_type": "markdown",
   "metadata": {},
   "source": [
    "Resource: https://www.kdnuggets.com/2022/07/parallel-processing-large-file-python.html"
   ]
  },
  {
   "cell_type": "code",
   "execution_count": null,
   "metadata": {},
   "outputs": [],
   "source": [
    "n_workers = 2 * mp.cpu_count()\n",
    "\n",
    "print(f\"{n_workers} workers are available\")"
   ]
  },
  {
   "cell_type": "code",
   "execution_count": null,
   "metadata": {},
   "outputs": [],
   "source": [
    "%time\n",
    "file_name=\"Kindle_Store_5_2018.csv\"\n",
    "df = pd.read_csv(file_name)\n",
    "\n",
    "num_rows = df.shape[0]\n",
    "print(\"Number of rows in the dataset:\", num_rows)\n",
    "print(f\"Shape:{df.shape}\\n\\nColumn Names:\\n{df.columns}\\n\")\n",
    "print(df.dtypes)"
   ]
  },
  {
   "cell_type": "code",
   "execution_count": null,
   "metadata": {},
   "outputs": [],
   "source": []
  }
 ],
 "metadata": {
  "language_info": {
   "name": "python"
  },
  "orig_nbformat": 4
 },
 "nbformat": 4,
 "nbformat_minor": 2
}
