{
 "cells": [
  {
   "cell_type": "markdown",
   "id": "cb823980",
   "metadata": {},
   "source": [
    "### DSP Project on Rating System for Customer's Reviews of on Products \n",
    "\n",
    "#### The Model Build-Up\n",
    "\n",
    "##### Amazon Dataset: https://nijianmo.github.io/amazon/index.html#code"
   ]
  },
  {
   "cell_type": "markdown",
   "id": "37db3860",
   "metadata": {},
   "source": [
    "## Import the libraries"
   ]
  },
  {
   "cell_type": "code",
   "execution_count": 2,
   "id": "4262be3b",
   "metadata": {},
   "outputs": [],
   "source": [
    "import numpy as np\n",
    "import pandas as pd"
   ]
  },
  {
   "cell_type": "code",
   "execution_count": 3,
   "id": "5e3cd9ff",
   "metadata": {},
   "outputs": [],
   "source": [
    "import json"
   ]
  },
  {
   "cell_type": "code",
   "execution_count": 4,
   "id": "ace3a193-931b-4b9e-aaa0-b46d2523e4ab",
   "metadata": {},
   "outputs": [],
   "source": [
    "dataPath = '/Users/OLALYTICS/dsp-final-project/data/'\n",
    "\n",
    "dataset_name = 'Amazon_Kindle_Store.json'"
   ]
  },
  {
   "cell_type": "code",
   "execution_count": 5,
   "id": "2955343d",
   "metadata": {},
   "outputs": [],
   "source": [
    "data = []\n",
    "\n",
    "with open(dataPath + dataset_name) as f:\n",
    "    \n",
    "    for line in f:\n",
    "        \n",
    "        json_data = json.loads(line)\n",
    "        \n",
    "        data.append(json_data)\n",
    "    "
   ]
  },
  {
   "cell_type": "code",
   "execution_count": 11,
   "id": "9e2290a3",
   "metadata": {},
   "outputs": [],
   "source": [
    "df1 = pd.DataFrame(data)"
   ]
  },
  {
   "cell_type": "code",
   "execution_count": 12,
   "id": "9bfcf3d9-2048-4cb6-8ca2-a5085b223d8e",
   "metadata": {},
   "outputs": [],
   "source": [
    "# Selecting 30% of the dataset to boost the running time while loading\n",
    "\n",
    "review_dataset = df1.sample(frac = 0.3, random_state = 42)\n",
    "\n",
    "# Resetting the index of the 10% sample DataFrame\n",
    "\n",
    "review_dataset.reset_index(drop = True, inplace = True)"
   ]
  },
  {
   "cell_type": "code",
   "execution_count": 13,
   "id": "2969abe1",
   "metadata": {},
   "outputs": [
    {
     "data": {
      "text/html": [
       "<div>\n",
       "<style scoped>\n",
       "    .dataframe tbody tr th:only-of-type {\n",
       "        vertical-align: middle;\n",
       "    }\n",
       "\n",
       "    .dataframe tbody tr th {\n",
       "        vertical-align: top;\n",
       "    }\n",
       "\n",
       "    .dataframe thead th {\n",
       "        text-align: right;\n",
       "    }\n",
       "</style>\n",
       "<table border=\"1\" class=\"dataframe\">\n",
       "  <thead>\n",
       "    <tr style=\"text-align: right;\">\n",
       "      <th></th>\n",
       "      <th>overall</th>\n",
       "      <th>verified</th>\n",
       "      <th>reviewTime</th>\n",
       "      <th>reviewerID</th>\n",
       "      <th>asin</th>\n",
       "      <th>style</th>\n",
       "      <th>reviewerName</th>\n",
       "      <th>reviewText</th>\n",
       "      <th>summary</th>\n",
       "      <th>unixReviewTime</th>\n",
       "      <th>vote</th>\n",
       "      <th>image</th>\n",
       "    </tr>\n",
       "  </thead>\n",
       "  <tbody>\n",
       "    <tr>\n",
       "      <th>0</th>\n",
       "      <td>4.0</td>\n",
       "      <td>False</td>\n",
       "      <td>12 13, 2013</td>\n",
       "      <td>A30SHRDUQFXF6V</td>\n",
       "      <td>B00FPZ53PW</td>\n",
       "      <td>{'Format:': ' Kindle Edition'}</td>\n",
       "      <td>Steve Bureau</td>\n",
       "      <td>Wow, there is a ton of content there! 52 pages...</td>\n",
       "      <td>A lot of content</td>\n",
       "      <td>1386892800</td>\n",
       "      <td>NaN</td>\n",
       "      <td>NaN</td>\n",
       "    </tr>\n",
       "    <tr>\n",
       "      <th>1</th>\n",
       "      <td>5.0</td>\n",
       "      <td>True</td>\n",
       "      <td>10 8, 2016</td>\n",
       "      <td>A3OCKJ3WL1IVRI</td>\n",
       "      <td>B01H2XPLB0</td>\n",
       "      <td>{'Format:': ' Kindle Edition'}</td>\n",
       "      <td>ckc</td>\n",
       "      <td>Ah here we go again. New season New characters...</td>\n",
       "      <td>The Wifey'$ are back</td>\n",
       "      <td>1475884800</td>\n",
       "      <td>NaN</td>\n",
       "      <td>NaN</td>\n",
       "    </tr>\n",
       "    <tr>\n",
       "      <th>2</th>\n",
       "      <td>5.0</td>\n",
       "      <td>False</td>\n",
       "      <td>08 17, 2015</td>\n",
       "      <td>A3DVTU6BUBAC6</td>\n",
       "      <td>B00XVC88VC</td>\n",
       "      <td>{'Format:': ' Kindle Edition'}</td>\n",
       "      <td>Jaime</td>\n",
       "      <td>My god! Conscience, the 2nd installment in Cec...</td>\n",
       "      <td>FANTASTIC 2nd installment!!!!!</td>\n",
       "      <td>1439769600</td>\n",
       "      <td>6</td>\n",
       "      <td>NaN</td>\n",
       "    </tr>\n",
       "    <tr>\n",
       "      <th>3</th>\n",
       "      <td>5.0</td>\n",
       "      <td>True</td>\n",
       "      <td>05 27, 2015</td>\n",
       "      <td>A175GM0AGKEBBF</td>\n",
       "      <td>B00UZKS8V8</td>\n",
       "      <td>{'Format:': ' Kindle Edition'}</td>\n",
       "      <td>Teresa M Palombi</td>\n",
       "      <td>OMG, I wanted more</td>\n",
       "      <td>Five Stars</td>\n",
       "      <td>1432684800</td>\n",
       "      <td>NaN</td>\n",
       "      <td>NaN</td>\n",
       "    </tr>\n",
       "    <tr>\n",
       "      <th>4</th>\n",
       "      <td>5.0</td>\n",
       "      <td>True</td>\n",
       "      <td>03 10, 2015</td>\n",
       "      <td>AHPYP1RPIJ7TU</td>\n",
       "      <td>B00O6KVFC2</td>\n",
       "      <td>{'Format:': ' Kindle Edition'}</td>\n",
       "      <td>randy atkins</td>\n",
       "      <td>Good read all the way throughout</td>\n",
       "      <td>Five Stars</td>\n",
       "      <td>1425945600</td>\n",
       "      <td>NaN</td>\n",
       "      <td>NaN</td>\n",
       "    </tr>\n",
       "  </tbody>\n",
       "</table>\n",
       "</div>"
      ],
      "text/plain": [
       "   overall  verified   reviewTime      reviewerID        asin  \\\n",
       "0      4.0     False  12 13, 2013  A30SHRDUQFXF6V  B00FPZ53PW   \n",
       "1      5.0      True   10 8, 2016  A3OCKJ3WL1IVRI  B01H2XPLB0   \n",
       "2      5.0     False  08 17, 2015   A3DVTU6BUBAC6  B00XVC88VC   \n",
       "3      5.0      True  05 27, 2015  A175GM0AGKEBBF  B00UZKS8V8   \n",
       "4      5.0      True  03 10, 2015   AHPYP1RPIJ7TU  B00O6KVFC2   \n",
       "\n",
       "                            style      reviewerName  \\\n",
       "0  {'Format:': ' Kindle Edition'}      Steve Bureau   \n",
       "1  {'Format:': ' Kindle Edition'}               ckc   \n",
       "2  {'Format:': ' Kindle Edition'}             Jaime   \n",
       "3  {'Format:': ' Kindle Edition'}  Teresa M Palombi   \n",
       "4  {'Format:': ' Kindle Edition'}      randy atkins   \n",
       "\n",
       "                                          reviewText  \\\n",
       "0  Wow, there is a ton of content there! 52 pages...   \n",
       "1  Ah here we go again. New season New characters...   \n",
       "2  My god! Conscience, the 2nd installment in Cec...   \n",
       "3                                 OMG, I wanted more   \n",
       "4                   Good read all the way throughout   \n",
       "\n",
       "                          summary  unixReviewTime vote image  \n",
       "0                A lot of content      1386892800  NaN   NaN  \n",
       "1            The Wifey'$ are back      1475884800  NaN   NaN  \n",
       "2  FANTASTIC 2nd installment!!!!!      1439769600    6   NaN  \n",
       "3                      Five Stars      1432684800  NaN   NaN  \n",
       "4                      Five Stars      1425945600  NaN   NaN  "
      ]
     },
     "execution_count": 13,
     "metadata": {},
     "output_type": "execute_result"
    }
   ],
   "source": [
    "review_dataset.head()"
   ]
  },
  {
   "cell_type": "markdown",
   "id": "f03b113c",
   "metadata": {},
   "source": [
    "#### Exploratory Data Analysis"
   ]
  },
  {
   "cell_type": "code",
   "execution_count": 14,
   "id": "de553e41",
   "metadata": {},
   "outputs": [
    {
     "name": "stdout",
     "output_type": "stream",
     "text": [
      "<class 'pandas.core.frame.DataFrame'>\n",
      "RangeIndex: 666895 entries, 0 to 666894\n",
      "Data columns (total 12 columns):\n",
      " #   Column          Non-Null Count   Dtype  \n",
      "---  ------          --------------   -----  \n",
      " 0   overall         666895 non-null  float64\n",
      " 1   verified        666895 non-null  bool   \n",
      " 2   reviewTime      666895 non-null  object \n",
      " 3   reviewerID      666895 non-null  object \n",
      " 4   asin            666895 non-null  object \n",
      " 5   style           651355 non-null  object \n",
      " 6   reviewerName    666850 non-null  object \n",
      " 7   reviewText      666783 non-null  object \n",
      " 8   summary         666425 non-null  object \n",
      " 9   unixReviewTime  666895 non-null  int64  \n",
      " 10  vote            87400 non-null   object \n",
      " 11  image           432 non-null     object \n",
      "dtypes: bool(1), float64(1), int64(1), object(9)\n",
      "memory usage: 56.6+ MB\n"
     ]
    }
   ],
   "source": [
    "review_dataset.info()"
   ]
  },
  {
   "cell_type": "code",
   "execution_count": 19,
   "id": "bbe884be",
   "metadata": {},
   "outputs": [],
   "source": [
    "import seaborn as sns"
   ]
  },
  {
   "cell_type": "code",
   "execution_count": 20,
   "id": "c5356ac3",
   "metadata": {},
   "outputs": [
    {
     "data": {
      "text/plain": [
       "<Axes: xlabel='overall', ylabel='count'>"
      ]
     },
     "execution_count": 20,
     "metadata": {},
     "output_type": "execute_result"
    },
    {
     "data": {
      "image/png": "[encoded data removed]",
      "text/plain": [
       "<Figure size 640x480 with 1 Axes>"
      ]
     },
     "metadata": {},
     "output_type": "display_data"
    }
   ],
   "source": [
    "sns.countplot(x = 'overall', data = review_dataset)"
   ]
  },
  {
   "cell_type": "code",
   "execution_count": 21,
   "id": "d896e404",
   "metadata": {},
   "outputs": [
    {
     "data": {
      "text/plain": [
       "<Axes: xlabel='verified', ylabel='count'>"
      ]
     },
     "execution_count": 21,
     "metadata": {},
     "output_type": "execute_result"
    },
    {
     "data": {
      "image/png": "[encoded data removed]",
      "text/plain": [
       "<Figure size 640x480 with 1 Axes>"
      ]
     },
     "metadata": {},
     "output_type": "display_data"
    }
   ],
   "source": [
    "sns.countplot(x = 'verified', data = review_dataset)"
   ]
  },
  {
   "cell_type": "markdown",
   "id": "9b312c88",
   "metadata": {},
   "source": [
    "### interested columns: `reviewText and overall`"
   ]
  },
  {
   "cell_type": "code",
   "execution_count": 22,
   "id": "17d2ee76",
   "metadata": {},
   "outputs": [
    {
     "data": {
      "text/html": [
       "<div>\n",
       "<style scoped>\n",
       "    .dataframe tbody tr th:only-of-type {\n",
       "        vertical-align: middle;\n",
       "    }\n",
       "\n",
       "    .dataframe tbody tr th {\n",
       "        vertical-align: top;\n",
       "    }\n",
       "\n",
       "    .dataframe thead th {\n",
       "        text-align: right;\n",
       "    }\n",
       "</style>\n",
       "<table border=\"1\" class=\"dataframe\">\n",
       "  <thead>\n",
       "    <tr style=\"text-align: right;\">\n",
       "      <th></th>\n",
       "      <th>reviewText</th>\n",
       "      <th>overall</th>\n",
       "    </tr>\n",
       "  </thead>\n",
       "  <tbody>\n",
       "    <tr>\n",
       "      <th>0</th>\n",
       "      <td>Wow, there is a ton of content there! 52 pages...</td>\n",
       "      <td>4.0</td>\n",
       "    </tr>\n",
       "    <tr>\n",
       "      <th>1</th>\n",
       "      <td>Ah here we go again. New season New characters...</td>\n",
       "      <td>5.0</td>\n",
       "    </tr>\n",
       "    <tr>\n",
       "      <th>2</th>\n",
       "      <td>My god! Conscience, the 2nd installment in Cec...</td>\n",
       "      <td>5.0</td>\n",
       "    </tr>\n",
       "    <tr>\n",
       "      <th>3</th>\n",
       "      <td>OMG, I wanted more</td>\n",
       "      <td>5.0</td>\n",
       "    </tr>\n",
       "    <tr>\n",
       "      <th>4</th>\n",
       "      <td>Good read all the way throughout</td>\n",
       "      <td>5.0</td>\n",
       "    </tr>\n",
       "  </tbody>\n",
       "</table>\n",
       "</div>"
      ],
      "text/plain": [
       "                                          reviewText  overall\n",
       "0  Wow, there is a ton of content there! 52 pages...      4.0\n",
       "1  Ah here we go again. New season New characters...      5.0\n",
       "2  My god! Conscience, the 2nd installment in Cec...      5.0\n",
       "3                                 OMG, I wanted more      5.0\n",
       "4                   Good read all the way throughout      5.0"
      ]
     },
     "execution_count": 22,
     "metadata": {},
     "output_type": "execute_result"
    }
   ],
   "source": [
    "data_df = review_dataset[['reviewText','overall']]\n",
    "\n",
    "data_df.head()"
   ]
  },
  {
   "cell_type": "code",
   "execution_count": 23,
   "id": "6a9cc7e0",
   "metadata": {},
   "outputs": [
    {
     "data": {
      "text/html": [
       "<div>\n",
       "<style scoped>\n",
       "    .dataframe tbody tr th:only-of-type {\n",
       "        vertical-align: middle;\n",
       "    }\n",
       "\n",
       "    .dataframe tbody tr th {\n",
       "        vertical-align: top;\n",
       "    }\n",
       "\n",
       "    .dataframe thead th {\n",
       "        text-align: right;\n",
       "    }\n",
       "</style>\n",
       "<table border=\"1\" class=\"dataframe\">\n",
       "  <thead>\n",
       "    <tr style=\"text-align: right;\">\n",
       "      <th></th>\n",
       "      <th>reviewText</th>\n",
       "      <th>overall</th>\n",
       "    </tr>\n",
       "  </thead>\n",
       "  <tbody>\n",
       "    <tr>\n",
       "      <th>96676</th>\n",
       "      <td>This series must be read in order. The first b...</td>\n",
       "      <td>5.0</td>\n",
       "    </tr>\n",
       "    <tr>\n",
       "      <th>550586</th>\n",
       "      <td>Like someone else mentioned, I too paid more t...</td>\n",
       "      <td>1.0</td>\n",
       "    </tr>\n",
       "    <tr>\n",
       "      <th>69765</th>\n",
       "      <td>Im finding information about relieving stress ...</td>\n",
       "      <td>4.0</td>\n",
       "    </tr>\n",
       "    <tr>\n",
       "      <th>272702</th>\n",
       "      <td>It was fun and held my interest.  Not my very ...</td>\n",
       "      <td>5.0</td>\n",
       "    </tr>\n",
       "    <tr>\n",
       "      <th>273451</th>\n",
       "      <td>.I love how the author created the characters ...</td>\n",
       "      <td>5.0</td>\n",
       "    </tr>\n",
       "  </tbody>\n",
       "</table>\n",
       "</div>"
      ],
      "text/plain": [
       "                                               reviewText  overall\n",
       "96676   This series must be read in order. The first b...      5.0\n",
       "550586  Like someone else mentioned, I too paid more t...      1.0\n",
       "69765   Im finding information about relieving stress ...      4.0\n",
       "272702  It was fun and held my interest.  Not my very ...      5.0\n",
       "273451  .I love how the author created the characters ...      5.0"
      ]
     },
     "execution_count": 23,
     "metadata": {},
     "output_type": "execute_result"
    }
   ],
   "source": [
    "data_df.sample(5)"
   ]
  },
  {
   "cell_type": "code",
   "execution_count": 24,
   "id": "dc82c0d6",
   "metadata": {},
   "outputs": [
    {
     "data": {
      "text/plain": [
       "overall\n",
       "5.0    406286\n",
       "4.0    166700\n",
       "3.0     59324\n",
       "2.0     20187\n",
       "1.0     14398\n",
       "Name: count, dtype: int64"
      ]
     },
     "execution_count": 24,
     "metadata": {},
     "output_type": "execute_result"
    }
   ],
   "source": [
    "data_df['overall'].value_counts()"
   ]
  },
  {
   "cell_type": "markdown",
   "id": "ce38f166",
   "metadata": {},
   "source": [
    "### Data Preprocessing"
   ]
  },
  {
   "cell_type": "code",
   "execution_count": 26,
   "id": "f1a33f77",
   "metadata": {},
   "outputs": [],
   "source": [
    "from bs4 import BeautifulSoup\n",
    "\n",
    "from unidecode import unidecode\n",
    "\n",
    "import re\n",
    "\n",
    "def clean_text(text):\n",
    "    \n",
    "    text = str(text).lower().replace('\\\\', '').replace('_', ' ')\n",
    "    #text = contractions.fix(text)\n",
    "    text = re.sub(r'\\S+@\\S+', '', text)\n",
    "    text = re.sub(r'http\\S+', '', text)\n",
    "    soup = BeautifulSoup(text, 'html.parser')\n",
    "    text = soup.get_text()\n",
    "    text = unidecode(text)\n",
    "    text = re.sub(r'[^a-zA-Z0-9\\s]', '', text)\n",
    "    text = re.sub(\"(.)\\\\1{2,}\", \"\\\\1\", text)\n",
    "                        \n",
    "    return text"
   ]
  },
  {
   "cell_type": "code",
   "execution_count": 27,
   "id": "cbf65734",
   "metadata": {},
   "outputs": [
    {
     "name": "stderr",
     "output_type": "stream",
     "text": [
      "/var/folders/c6/ht4lr6411jqdn8bhdr_m1dh00000gp/T/ipykernel_93251/2549876200.py:13: MarkupResemblesLocatorWarning: The input looks more like a filename than markup. You may want to open this file and pass the filehandle into Beautiful Soup.\n",
      "  soup = BeautifulSoup(text, 'html.parser')\n",
      "/var/folders/c6/ht4lr6411jqdn8bhdr_m1dh00000gp/T/ipykernel_93251/1075072618.py:1: SettingWithCopyWarning: \n",
      "A value is trying to be set on a copy of a slice from a DataFrame.\n",
      "Try using .loc[row_indexer,col_indexer] = value instead\n",
      "\n",
      "See the caveats in the documentation: https://pandas.pydata.org/pandas-docs/stable/user_guide/indexing.html#returning-a-view-versus-a-copy\n",
      "  data_df['reviewText'] = data_df['reviewText'].apply(lambda text: clean_text(text))\n"
     ]
    }
   ],
   "source": [
    "data_df['reviewText'] = data_df['reviewText'].apply(lambda text: clean_text(text))"
   ]
  },
  {
   "cell_type": "code",
   "execution_count": 28,
   "id": "476e03b2",
   "metadata": {},
   "outputs": [
    {
     "data": {
      "text/html": [
       "<div>\n",
       "<style scoped>\n",
       "    .dataframe tbody tr th:only-of-type {\n",
       "        vertical-align: middle;\n",
       "    }\n",
       "\n",
       "    .dataframe tbody tr th {\n",
       "        vertical-align: top;\n",
       "    }\n",
       "\n",
       "    .dataframe thead th {\n",
       "        text-align: right;\n",
       "    }\n",
       "</style>\n",
       "<table border=\"1\" class=\"dataframe\">\n",
       "  <thead>\n",
       "    <tr style=\"text-align: right;\">\n",
       "      <th></th>\n",
       "      <th>reviewText</th>\n",
       "      <th>overall</th>\n",
       "    </tr>\n",
       "  </thead>\n",
       "  <tbody>\n",
       "    <tr>\n",
       "      <th>0</th>\n",
       "      <td>wow there is a ton of content there 52 pages i...</td>\n",
       "      <td>4.0</td>\n",
       "    </tr>\n",
       "    <tr>\n",
       "      <th>1</th>\n",
       "      <td>ah here we go again new season new characters ...</td>\n",
       "      <td>5.0</td>\n",
       "    </tr>\n",
       "    <tr>\n",
       "      <th>2</th>\n",
       "      <td>my god conscience the 2nd installment in cecil...</td>\n",
       "      <td>5.0</td>\n",
       "    </tr>\n",
       "    <tr>\n",
       "      <th>3</th>\n",
       "      <td>omg i wanted more</td>\n",
       "      <td>5.0</td>\n",
       "    </tr>\n",
       "    <tr>\n",
       "      <th>4</th>\n",
       "      <td>good read all the way throughout</td>\n",
       "      <td>5.0</td>\n",
       "    </tr>\n",
       "  </tbody>\n",
       "</table>\n",
       "</div>"
      ],
      "text/plain": [
       "                                          reviewText  overall\n",
       "0  wow there is a ton of content there 52 pages i...      4.0\n",
       "1  ah here we go again new season new characters ...      5.0\n",
       "2  my god conscience the 2nd installment in cecil...      5.0\n",
       "3                                  omg i wanted more      5.0\n",
       "4                   good read all the way throughout      5.0"
      ]
     },
     "execution_count": 28,
     "metadata": {},
     "output_type": "execute_result"
    }
   ],
   "source": [
    "data_df.head()"
   ]
  },
  {
   "cell_type": "markdown",
   "id": "59fb0bb6",
   "metadata": {},
   "source": [
    "### Training the model"
   ]
  },
  {
   "cell_type": "markdown",
   "id": "473185b6",
   "metadata": {},
   "source": [
    "##### Term Frequency - Inverse Document Frequency(TFIDF) and Linear Support Vector Machine(SVM)"
   ]
  },
  {
   "cell_type": "code",
   "execution_count": 29,
   "id": "1f13967a",
   "metadata": {},
   "outputs": [],
   "source": [
    "from sklearn.feature_extraction.text import TfidfVectorizer\n",
    "\n",
    "from sklearn.model_selection import train_test_split\n",
    "\n",
    "from sklearn.svm import LinearSVC\n",
    "\n",
    "from sklearn.metrics import classification_report"
   ]
  },
  {
   "cell_type": "code",
   "execution_count": 30,
   "id": "494a36ec",
   "metadata": {},
   "outputs": [],
   "source": [
    "tfidf = TfidfVectorizer(max_features = None, ngram_range = (1,3), analyzer = 'char')"
   ]
  },
  {
   "cell_type": "code",
   "execution_count": 31,
   "id": "ac6e04e5",
   "metadata": {},
   "outputs": [
    {
     "data": {
      "text/plain": [
       "TfidfVectorizer(analyzer='char', ngram_range=(1, 3))"
      ]
     },
     "execution_count": 31,
     "metadata": {},
     "output_type": "execute_result"
    }
   ],
   "source": [
    "tfidf.fit(data_df['reviewText'])"
   ]
  },
  {
   "cell_type": "markdown",
   "id": "b507d284",
   "metadata": {},
   "source": [
    "#### Features selection "
   ]
  },
  {
   "cell_type": "code",
   "execution_count": 32,
   "id": "c6eeac3c",
   "metadata": {},
   "outputs": [],
   "source": [
    "X = tfidf.transform(data_df['reviewText'])"
   ]
  },
  {
   "cell_type": "code",
   "execution_count": 33,
   "id": "57adfe58",
   "metadata": {},
   "outputs": [],
   "source": [
    "y = data_df['overall']"
   ]
  },
  {
   "cell_type": "code",
   "execution_count": 34,
   "id": "0facc2a6",
   "metadata": {},
   "outputs": [
    {
     "data": {
      "text/plain": [
       "((666895, 25079), (666895,))"
      ]
     },
     "execution_count": 34,
     "metadata": {},
     "output_type": "execute_result"
    }
   ],
   "source": [
    "X.shape, y.shape"
   ]
  },
  {
   "cell_type": "code",
   "execution_count": 35,
   "id": "a9947663",
   "metadata": {},
   "outputs": [],
   "source": [
    "# splitting the dataset\n",
    "\n",
    "X_train, X_test, y_train, y_test = train_test_split(X, y, test_size = 0.25, random_state = 42)\n"
   ]
  },
  {
   "cell_type": "code",
   "execution_count": 36,
   "id": "adcc39d3",
   "metadata": {},
   "outputs": [
    {
     "data": {
      "text/plain": [
       "(500171, 25079)"
      ]
     },
     "execution_count": 36,
     "metadata": {},
     "output_type": "execute_result"
    }
   ],
   "source": [
    "X_train.shape"
   ]
  },
  {
   "cell_type": "code",
   "execution_count": null,
   "id": "8a2dbc43",
   "metadata": {},
   "outputs": [],
   "source": [
    "# Model fitting using LinearSVC"
   ]
  },
  {
   "cell_type": "code",
   "execution_count": 37,
   "id": "34f3873b",
   "metadata": {},
   "outputs": [],
   "source": [
    "# Initializing the model\n",
    "\n",
    "LinSVC = LinearSVC(C = 20, class_weight = 'balanced') "
   ]
  },
  {
   "cell_type": "code",
   "execution_count": 38,
   "id": "d2d723b4",
   "metadata": {},
   "outputs": [
    {
     "name": "stderr",
     "output_type": "stream",
     "text": [
      "/Users/OLALYTICS/anaconda3/envs/ml/lib/python3.9/site-packages/sklearn/svm/_base.py:985: ConvergenceWarning: Liblinear failed to converge, increase the number of iterations.\n",
      "  warnings.warn(\"Liblinear failed to converge, increase \"\n"
     ]
    },
    {
     "data": {
      "text/plain": [
       "LinearSVC(C=20, class_weight='balanced')"
      ]
     },
     "execution_count": 38,
     "metadata": {},
     "output_type": "execute_result"
    }
   ],
   "source": [
    "LinSVC.fit(X_train, y_train)"
   ]
  },
  {
   "cell_type": "code",
   "execution_count": 39,
   "id": "2eecc7cd",
   "metadata": {},
   "outputs": [
    {
     "data": {
      "text/plain": [
       "array([1., 3., 5., ..., 5., 3., 3.])"
      ]
     },
     "execution_count": 39,
     "metadata": {},
     "output_type": "execute_result"
    }
   ],
   "source": [
    "predicted_rating = LinSVC.predict(X_test)\n",
    "\n",
    "predicted_rating"
   ]
  },
  {
   "cell_type": "code",
   "execution_count": null,
   "id": "1f733a97",
   "metadata": {},
   "outputs": [],
   "source": [
    "# classification report for model performance"
   ]
  },
  {
   "cell_type": "code",
   "execution_count": 40,
   "id": "ed7fa1ec",
   "metadata": {},
   "outputs": [
    {
     "name": "stdout",
     "output_type": "stream",
     "text": [
      "              precision    recall  f1-score   support\n",
      "\n",
      "         1.0       0.30      0.53      0.39      3672\n",
      "         2.0       0.22      0.41      0.29      5053\n",
      "         3.0       0.35      0.44      0.39     14698\n",
      "         4.0       0.49      0.33      0.39     41692\n",
      "         5.0       0.79      0.82      0.81    101609\n",
      "\n",
      "    accuracy                           0.64    166724\n",
      "   macro avg       0.43      0.50      0.45    166724\n",
      "weighted avg       0.65      0.64      0.64    166724\n",
      "\n"
     ]
    }
   ],
   "source": [
    "print(classification_report(y_test, predicted_rating))"
   ]
  },
  {
   "cell_type": "markdown",
   "id": "cf175915",
   "metadata": {},
   "source": [
    "#### Testing the Prediction Rating based on customer's review"
   ]
  },
  {
   "cell_type": "code",
   "execution_count": 50,
   "id": "16aac249",
   "metadata": {},
   "outputs": [
    {
     "name": "stdout",
     "output_type": "stream",
     "text": [
      "Please provide your reviews: This is a bad book\n",
      "\n",
      "The predicted overall rating is:  [1.]\n"
     ]
    }
   ],
   "source": [
    "text_entry = input('Please provide your reviews: ')\n",
    "\n",
    "text_entry = clean_text(text_entry)\n",
    "\n",
    "text_transformed = tfidf.transform([text_entry])\n",
    "\n",
    "\n",
    "print('\\nThe predicted overall rating is: ', LinSVC.predict(text_transformed))"
   ]
  },
  {
   "cell_type": "markdown",
   "id": "f69fbfa0",
   "metadata": {},
   "source": [
    "### loading model to pickle"
   ]
  },
  {
   "cell_type": "code",
   "execution_count": 41,
   "id": "48f82e80",
   "metadata": {},
   "outputs": [],
   "source": [
    "import pickle"
   ]
  },
  {
   "cell_type": "code",
   "execution_count": 42,
   "id": "eebbd049",
   "metadata": {},
   "outputs": [],
   "source": [
    "with open('dsp_project_model.pkl', 'wb') as file:\n",
    "    pickle.dump(LinSVC, file)"
   ]
  },
  {
   "cell_type": "code",
   "execution_count": null,
   "id": "ea236bff",
   "metadata": {},
   "outputs": [],
   "source": [
    "with open('dsp_project_tfidf_model.pkl', 'wb') as file:\n",
    "    pickle.dump(LinSVC, file)"
   ]
  },
  {
   "cell_type": "code",
   "execution_count": 43,
   "id": "2d4ff3f2",
   "metadata": {},
   "outputs": [],
   "source": [
    "# reading the pickle file\n",
    "\n",
    "# import pickle\n",
    "\n",
    "# with open('dsp_project_model.pkl', 'rb') as file:\n",
    "    #clf = pickle.load(file)\n",
    "\n",
    "# predict with it\n",
    "\n",
    "#predictions = clf.predict([['this product is good']])\n",
    "\n",
    "#predictions\n"
   ]
  }
 ],
 "metadata": {
  "kernelspec": {
   "display_name": "Python 3.9.18 ('dsp-project')",
   "language": "python",
   "name": "python3"
  },
  "language_info": {
   "codemirror_mode": {
    "name": "ipython",
    "version": 3
   },
   "file_extension": ".py",
   "mimetype": "text/x-python",
   "name": "python",
   "nbconvert_exporter": "python",
   "pygments_lexer": "ipython3",
   "version": "3.9.18"
  },
  "vscode": {
   "interpreter": {
    "hash": "fed25617af6b8ca216fdfba48af26af7f609b1aa60a7d7a5e74e8ecc26b209e5"
   }
  }
 },
 "nbformat": 4,
 "nbformat_minor": 5
}
